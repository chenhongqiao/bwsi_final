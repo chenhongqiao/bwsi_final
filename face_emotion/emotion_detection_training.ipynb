{
 "cells": [
  {
   "cell_type": "code",
   "execution_count": null,
   "metadata": {},
   "outputs": [],
   "source": [
    "import numpy as np\n",
    "import pandas as pd\n",
    "import matplotlib.pyplot as plt\n",
    "import seaborn as sns\n",
    "%matplotlib inline\n",
    "import torch\n",
    "import torchvision\n",
    "from sklearn.model_selection import train_test_split\n",
    "\n",
    "from tqdm import tqdm\n",
    "\n",
    "gpu_check = torch.cuda.is_available()\n",
    "if gpu_check:\n",
    "    print(\"Training on GPU\")\n",
    "else:\n",
    "    print(\"Training on CPU\")"
   ]
  },
  {
   "cell_type": "code",
   "execution_count": null,
   "metadata": {},
   "outputs": [],
   "source": [
    "df = pd.read_csv('\\data\\train.csv')"
   ]
  },
  {
   "cell_type": "code",
   "execution_count": null,
   "metadata": {},
   "outputs": [],
   "source": [
    "Emotion = {0:'Anger',\n",
    "           1:'Disgust',\n",
    "           2:'Fear',\n",
    "           3:'Happy',\n",
    "           4:'Sad',\n",
    "           5:'Surprise',\n",
    "           6:'Neutral'}"
   ]
  },
  {
   "cell_type": "code",
   "execution_count": null,
   "metadata": {},
   "outputs": [],
   "source": [
    "ax = sns.countplot(df['Emotion'])\n",
    "ax.set(xticklabels = Emotion.values(), title = \"Dataset Count\")\n",
    "plt.show()"
   ]
  },
  {
   "cell_type": "code",
   "execution_count": null,
   "metadata": {},
   "outputs": [],
   "source": [
    "df.head()"
   ]
  },
  {
   "cell_type": "code",
   "execution_count": null,
   "metadata": {},
   "outputs": [],
   "source": [
    "val_size = 0.2\n",
    "\n",
    "X = df['Pixels'].str.split(\" \", expand = True) #Split the 'Pixels' column based on space\n",
    "X = np.asarray(X).astype(float) #convert dataset to float\n",
    "X = X/255.0 #normalize\n",
    "X = X.reshape(-1,1,48,48) #reshape to 4D array\n",
    "y = np.asarray(df['Emotion']).reshape(-1,1).astype(int) # 1D array for target values\n",
    "\n",
    "X_train, X_val, y_train, y_val = train_test_split(X, y, test_size = 0.2, stratify = y)\n",
    "\n",
    "#show the number of training and validation data\n",
    "print(f'The number of items in X_train is {len(X_train)}.\\nThe number of items in y_train is {len(y_train)}.\\n')\n",
    "print(f'The number of items in X_train is {len(X_val)}.\\nThe number of items in y_train is {len(y_val)}.')"
   ]
  },
  {
   "cell_type": "code",
   "execution_count": null,
   "metadata": {},
   "outputs": [],
   "source": [
    "#function to display samle data\n",
    "def display_tensor(x,y):\n",
    "    plt.figure(figsize = (5,5))\n",
    "    plt.imshow(x.reshape(48,48), cmap = 'gray')\n",
    "    plt.title(y)\n",
    "    plt.show()"
   ]
  },
  {
   "cell_type": "code",
   "execution_count": null,
   "metadata": {},
   "outputs": [],
   "source": [
    "import random\n",
    "\n",
    "ran = random.randint(0,len(X_train))\n",
    "display_tensor(X[ran], Emotion[int(y[ran])])"
   ]
  },
  {
   "cell_type": "code",
   "execution_count": null,
   "metadata": {},
   "outputs": [],
   "source": [
    "# Display sample faces per emotion\n",
    "fig = plt.figure(figsize=(25, 4))\n",
    "for i in range(len(Emotion)):\n",
    "    ax = fig.add_subplot(1, 7, i+1, xticks=[], yticks=[])\n",
    "    ax.imshow(np.squeeze(X_train[np.argmax(y_train == i)].reshape(48,48)), cmap='gray')\n",
    "    ax.set_title(Emotion[int(y_train[np.argmax(y_train == i)])])"
   ]
  },
  {
   "cell_type": "code",
   "execution_count": null,
   "metadata": {},
   "outputs": [],
   "source": [
    "# Create PyTorch dataset from the numpy dataset\n",
    "import torch.utils.data as utils\n",
    "import torchvision.transforms as transforms\n",
    "\n",
    "# Create tensors of the training dataset for PyTorch\n",
    "tensor_x = torch.stack([torch.Tensor(i) for i in X_train])\n",
    "tensor_y = torch.stack([torch.Tensor(i) for i in y_train])\n",
    "train_data = utils.TensorDataset(tensor_x, tensor_y)\n",
    "\n",
    "# Create tensors of the validation dataset for PyTorch\n",
    "tensor_x = torch.stack([torch.Tensor(i) for i in X_val])\n",
    "tensor_y = torch.stack([torch.Tensor(i) for i in y_val])\n",
    "valid_data = utils.TensorDataset(tensor_x, tensor_y)"
   ]
  },
  {
   "cell_type": "code",
   "execution_count": null,
   "metadata": {},
   "outputs": [],
   "source": [
    "train_transform = transforms.Compose([transforms.ToTensor(),\n",
    "                                      transforms.RandomHorizontalFlip()])\n",
    "valid_transform = transforms.Compose([transforms.ToTensor()])"
   ]
  },
  {
   "cell_type": "code",
   "execution_count": null,
   "metadata": {},
   "outputs": [],
   "source": [
    "num_workers = 0\n",
    "batch_size = 20\n",
    "\n",
    "train_loader = torch.utils.data.DataLoader(train_data, batch_size = batch_size,\n",
    "                                           shuffle = True, num_workers = num_workers)\n",
    "valid_loader = torch.utils.data.DataLoader(valid_data, batch_size = batch_size,\n",
    "                                           shuffle = True, num_workers = num_workers)"
   ]
  },
  {
   "cell_type": "code",
   "execution_count": null,
   "metadata": {},
   "outputs": [],
   "source": [
    "import torch.nn as nn\n",
    "import torch.nn.functional as F\n",
    "\n",
    "\n",
    "class Net(nn.Module):\n",
    "    def __init__(self):\n",
    "        super(Net, self).__init__()\n",
    "        # CNN layer sees 48x48x1 image tensor\n",
    "        self.conv1 = nn.Conv2d(1, 30, 3, padding=1)\n",
    "        self.bn1 = nn.BatchNorm2d(30)\n",
    "        # CNN layer sees 24x24x20 image tensor\n",
    "        self.conv2 = nn.Conv2d(30, 30, 5, padding=2)\n",
    "        self.bn2 = nn.BatchNorm2d(30)\n",
    "        # CNN layer sees 12x12x20 image tensor\n",
    "        self.conv3 = nn.Conv2d(30, 30, 7, padding=3)\n",
    "        self.bn3 = nn.BatchNorm2d(30)\n",
    "\n",
    "        self.maxpool = nn.MaxPool2d(2, 2)\n",
    "\n",
    "        self.fc1 = nn.Linear(30 * 6 * 6, 256)\n",
    "        self.fc2 = nn.Linear(256, 128)\n",
    "        self.fc3 = nn.Linear(128, 7)\n",
    "\n",
    "        self.dropout = nn.Dropout(p=0.5)\n",
    "        self.logsoftmax = nn.LogSoftmax(dim=1)\n",
    "\n",
    "    # forward pass\n",
    "    def forward(self, x):\n",
    "        x = self.bn1(self.maxpool(F.relu(self.conv1(x))))\n",
    "        x = self.bn2(self.maxpool(F.relu(self.conv2(x))))\n",
    "        x = self.bn3(self.maxpool(F.relu(self.conv3(x))))\n",
    "        x = x.view(-1, 6 * 6 * 30)\n",
    "        x = self.dropout(x)\n",
    "        x = F.relu(self.fc1(x))\n",
    "        x = self.dropout(x)\n",
    "        x = F.relu(self.fc2(x))\n",
    "        x = self.dropout(x)\n",
    "        x = self.fc3(x)\n",
    "        return x\n",
    "\n",
    "model = Net()"
   ]
  },
  {
   "cell_type": "code",
   "execution_count": null,
   "metadata": {},
   "outputs": [],
   "source": [
    "criterion = nn.CrossEntropyLoss()\n",
    "optimizer = torch.optim.SGD(model.parameters(), lr = 0.01)"
   ]
  },
  {
   "cell_type": "code",
   "execution_count": null,
   "metadata": {},
   "outputs": [],
   "source": [
    "# training epochs\n",
    "n_epoch = 200\n",
    "\n",
    "valid_loss_ret = np.Inf\n",
    "valid_loss_min = np.Inf\n",
    "\n",
    "if gpu_check:\n",
    "    model.to('cuda')\n",
    "\n",
    "for epoch in tqdm(range(n_epoch)):\n",
    "    \n",
    "    train_loss = 0\n",
    "    valid_loss = 0\n",
    "    \n",
    "    model.train()\n",
    "\n",
    "    for data, target in train_loader:\n",
    "        if gpu_check:\n",
    "            data, target = data.to('cuda'), target.to('cuda')\n",
    "        target = target.squeeze()\n",
    "        optimizer.zero_grad()\n",
    "\n",
    "        output = model(data)\n",
    "\n",
    "        loss = criterion(output, target.long())\n",
    "        loss.backward()\n",
    "        optimizer.step()\n",
    "        train_loss += loss.item() * data.size(0)\n",
    "\n",
    "model.eval()\n",
    "\n",
    "for data, target in valid_loader:\n",
    "    if gpu_check:\n",
    "        data, target = data.to('cuda'), target.to('cuda')\n",
    "    target = target.squeeze()\n",
    "    output = model(data)\n",
    "    loss = criterion(output, target.long())\n",
    "    valid_loss += loss.item() * data.size(0)\n",
    "    \n",
    "    # avg training loss of training and validation \n",
    "    train_loss = train_loss/len(train_loader.dataset)\n",
    "    valid_loss = valid_loss/len(valid_loader.dataset)\n",
    "\n",
    "    if valid_loss < valid_loss_min:\n",
    "        torch.save(model.state_dict(), '\\Fe_Models\\ED_model.pth')\n",
    "        valid_loss_min = valid_loss\n",
    "        "
   ]
  },
  {
   "cell_type": "code",
   "execution_count": null,
   "metadata": {},
   "outputs": [],
   "source": [
    "# load current best model based on previous training\n",
    "model.load_state_dict(torch.load('\\Fe_Models\\ED_model.pth'))"
   ]
  },
  {
   "cell_type": "code",
   "execution_count": null,
   "metadata": {},
   "outputs": [],
   "source": [
    "# predict output and compare with ground truth\n",
    "def test_model(img, label, model):\n",
    "    X = torch.Tensor(img.reshape(1,1,48,48))\n",
    "    output = model(X)\n",
    "    _, pred = torch.max(output,1)\n",
    "    Emotion[int(pred)], label, pred\n",
    "    display_tensor(X, f'Prediction: {Emotion[int(pred)]}\\nActual:{label}')"
   ]
  },
  {
   "cell_type": "code",
   "execution_count": null,
   "metadata": {},
   "outputs": [],
   "source": [
    "model.to('cpu')\n",
    "y_pred = []\n",
    "corr = 0\n",
    "wrong = []\n",
    "for i in tqdm(range(len(X_val))):\n",
    "    output = model(torch.Tensor(X_val[i].reshape(1,1,48,48)))\n",
    "    _, pred = torch.max(output,1)\n",
    "    y_pred.append(pred)\n",
    "    if int(pred) == int(y_val[i]):\n",
    "        corr += 1\n",
    "    else:\n",
    "        wrong.append(i)\n",
    "\n",
    "print(\"The model's accuracy is {:.2f}%\".format(corr*100/len(X_val)))"
   ]
  },
  {
   "cell_type": "code",
   "execution_count": null,
   "metadata": {},
   "outputs": [],
   "source": [
    "# confusion matrix\n",
    "from sklearn.metrics import confusion_matrix\n",
    "\n",
    "sns.set(rc={'figure.figsize':(6,6)})\n",
    "ax = sns.heatmap(confusion_matrix(y_pred, y_val), cmap='gray_r', \n",
    "                 annot = True, cbar = False, \n",
    "                 xticklabels = list(Emotion.values()),\n",
    "                 yticklabels = list(Emotion.values()))\n",
    "ax.set(xlabel='Predicted', ylabel='Actual')\n",
    "plt.show()"
   ]
  },
  {
   "cell_type": "code",
   "execution_count": null,
   "metadata": {},
   "outputs": [],
   "source": [
    "# Sample of incorrect prediction\n",
    "ran = wrong[8]\n",
    "test_model(X_val[ran], Emotion[int(y_val[ran])], model)"
   ]
  }
 ],
 "metadata": {
  "kernelspec": {
   "display_name": "Python 3",
   "language": "python",
   "name": "python3"
  },
  "language_info": {
   "codemirror_mode": {
    "name": "ipython",
    "version": 3
   },
   "file_extension": ".py",
   "mimetype": "text/x-python",
   "name": "python",
   "nbconvert_exporter": "python",
   "pygments_lexer": "ipython3",
   "version": "3.10.12"
  },
  "orig_nbformat": 4
 },
 "nbformat": 4,
 "nbformat_minor": 2
}
